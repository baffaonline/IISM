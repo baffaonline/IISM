{
 "cells": [
  {
   "cell_type": "code",
   "execution_count": 60,
   "metadata": {},
   "outputs": [
    {
     "name": "stdout",
     "output_type": "stream",
     "text": [
      "0.008\n",
      "0\n"
     ]
    },
    {
     "data": {
      "text/plain": [
       "(array([ 37.,  57., 207., 156., 255., 131., 104.,  31.,  18.,   4.]),\n",
       " array([10. , 12.5, 15. , 17.5, 20. , 22.5, 25. , 27.5, 30. , 32.5, 35. ]),\n",
       " <a list of 10 Patch objects>)"
      ]
     },
     "execution_count": 60,
     "metadata": {},
     "output_type": "execute_result"
    },
    {
     "data": {
      "image/png": "[encoded data removed]",
      "text/plain": [
       "<Figure size 432x288 with 1 Axes>"
      ]
     },
     "metadata": {
      "needs_background": "light"
     },
     "output_type": "display_data"
    }
   ],
   "source": [
    "import numpy as np\n",
    "import matplotlib.pyplot as plt\n",
    "import math\n",
    "import random\n",
    "from scipy.stats import chi2\n",
    "\n",
    "alpha0 = 131075\n",
    "beta = 131075\n",
    "K = 128\n",
    "M = 2**31\n",
    "n = 1000\n",
    "def my_random(n, alpha0, beta, M):\n",
    "    alpha = alpha0\n",
    "    result = [alpha]*n\n",
    "    for i in range(1,n):\n",
    "        z = result[i-1]*beta\n",
    "        result[i] = z - M*int(z/M)\n",
    "    return result\n",
    "bsv = np.asarray(my_random(n, alpha0, beta, M))/M\n",
    "#plt.hist(bsv)\n",
    "\n",
    "def normDestr():\n",
    "    return sum(my_random(12, alpha0, beta, M)) - 6\n",
    "\n",
    "def xi2(n):\n",
    "    bsvs = [random.random() for i in range(0, 12 * n)] \n",
    "    norm_destrs = [sum(bsvs[i:i+12])-6 for i in range(0, 12*n, 12)]\n",
    "    return sum(map(lambda x : x**2, norm_destrs))\n",
    "\n",
    "def puassonDestr(lambd):\n",
    "    bsv = np.asarray(my_random(n, alpha0, beta, M))/M\n",
    "    i = 0\n",
    "    a = math.exp(-lambd)\n",
    "    b = 1\n",
    "    while (True):\n",
    "        #b = b * bsv[math.floor(random.random() * n)]\n",
    "        b = b * random.random()\n",
    "        if b < a:\n",
    "            break;\n",
    "        i += 1;\n",
    "    return i\n",
    "\n",
    "def genDestr(m, x, n):\n",
    "    xi = [0]*n\n",
    "    puas = [0]*n\n",
    "    for i in range(0,n):\n",
    "        xi[i] = xi2(m)\n",
    "        puas[i] = puassonDestr(x)\n",
    "    return xi, puas\n",
    "\n",
    "m = 20;\n",
    "x = 40;\n",
    "xis, puas = genDestr(m, x / 2, n)\n",
    "first = 0;\n",
    "for i in xis:\n",
    "    if i > x:\n",
    "        first += 1 / n\n",
    "second = 0;\n",
    "for i in puas:\n",
    "    if i <= m / 2 - 1:\n",
    "        second += 1 / n\n",
    "print(first)\n",
    "print(second)\n",
    "plt.hist(xis)\n",
    "plt.hist(puas)\n"
   ]
  },
  {
   "cell_type": "code",
   "execution_count": null,
   "metadata": {},
   "outputs": [],
   "source": []
  }
 ],
 "metadata": {
  "kernelspec": {
   "display_name": "Python 3",
   "language": "python",
   "name": "python3"
  },
  "language_info": {
   "codemirror_mode": {
    "name": "ipython",
    "version": 3
   },
   "file_extension": ".py",
   "mimetype": "text/x-python",
   "name": "python",
   "nbconvert_exporter": "python",
   "pygments_lexer": "ipython3",
   "version": "3.7.0"
  }
 },
 "nbformat": 4,
 "nbformat_minor": 2
}
